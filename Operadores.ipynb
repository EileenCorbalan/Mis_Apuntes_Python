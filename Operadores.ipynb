{
  "nbformat": 4,
  "nbformat_minor": 0,
  "metadata": {
    "colab": {
      "provenance": [],
      "authorship_tag": "ABX9TyN7t2ntTCYIMIecM52/A+XA",
      "include_colab_link": true
    },
    "kernelspec": {
      "name": "python3",
      "display_name": "Python 3"
    },
    "language_info": {
      "name": "python"
    }
  },
  "cells": [
    {
      "cell_type": "markdown",
      "metadata": {
        "id": "view-in-github",
        "colab_type": "text"
      },
      "source": [
        "<a href=\"https://colab.research.google.com/github/EileenCorbalan/Mis_Apuntes_Python/blob/main/Operadores.ipynb\" target=\"_parent\"><img src=\"https://colab.research.google.com/assets/colab-badge.svg\" alt=\"Open In Colab\"/></a>"
      ]
    },
    {
      "cell_type": "markdown",
      "source": [
        "#Operadores 🧮\n",
        "\n",
        "Los operadores son **símbolos reservados** que le indican al intérprete que realice una operación específica sobre uno o más operandos (valores o variables).\n",
        "\n",
        "Los operadores son herramientas fundamentales que permiten realizar **cálculos, comparaciones y controlar el flujo de un programa**.\n",
        "\n",
        "Teniendo un buen entendimiento de ellos, se puede escribir código más poderoso y flexible.\n",
        "\n",
        "Vamos a ver cuatro tipos, estos son:\n",
        "\n",
        "- Operadores Aritméticos\n",
        "- Operadores De Comparación\n",
        "- Operadores Lógicos\n",
        "- Operadores De asignación"
      ],
      "metadata": {
        "id": "Zlpbc8xeeoxH"
      }
    },
    {
      "cell_type": "markdown",
      "source": [
        "##Operadores Aritméticos ➕\n",
        "Se utilizan para realizar **operaciones matemáticas** básicas y avanzadas.\n",
        "\n",
        "- Suma `+`  \n",
        "- Resta `-`\n",
        "- Multiplicación `*`  \n",
        "- División `/`  \n",
        "- Módulo (resto de la división) `%`\n",
        "- Potencia `**`\n",
        "- División entera (sin decimales) `//`\n",
        "\n",
        "Veamos algunos ejemplos:"
      ],
      "metadata": {
        "id": "DHxcPyJBpB4v"
      }
    },
    {
      "cell_type": "code",
      "source": [
        "# Suma\n",
        "suma = 10 + 5\n",
        "print(suma)\n",
        "\n",
        "# Resta\n",
        "resta = 10 - 5\n",
        "print(resta)\n",
        "\n",
        "# Multiplicación\n",
        "multiplicacion = 10 * 5\n",
        "print(multiplicacion)\n",
        "\n",
        "# División\n",
        "division = 10 / 3\n",
        "print(division)\n",
        "\n",
        "# División entera (sin decimales)\n",
        "division_entera = 10 // 3\n",
        "print(division_entera)\n",
        "\n",
        "# Módulo (resto de la división)\n",
        "modulo = 10 % 3\n",
        "print(modulo)\n",
        "\n",
        "# Potencia\n",
        "potencia = 2 ** 3\n",
        "print(potencia)\n"
      ],
      "metadata": {
        "colab": {
          "base_uri": "https://localhost:8080/"
        },
        "id": "fzXNJc6SpUnI",
        "outputId": "4a3c05ee-0fbc-45c3-ae90-106d01d2c867"
      },
      "execution_count": null,
      "outputs": [
        {
          "output_type": "stream",
          "name": "stdout",
          "text": [
            "15\n",
            "5\n",
            "50\n",
            "3.3333333333333335\n",
            "3\n",
            "1\n",
            "8\n"
          ]
        }
      ]
    },
    {
      "cell_type": "markdown",
      "source": [
        "## Operadores de Comparación ❗\n",
        "Se utilizan para **comparar dos valores y devuelven un valor booleano** (`True` o `False`).\n",
        "\n",
        "Estos operadores se usan comúnmente en **Estructuras de Control** como condicionales (`if`,`elif`,`else`) para tomar decisiones basadas en comparaciones entre valores.\n",
        "\n",
        "- Igual a `==`\n",
        "- Diferente de `!=`\n",
        "- Mayor que `>`\n",
        "- Menor que `<`\n",
        "- Mayor o igual que `>=`\n",
        "- Menor o igual que `<=`\n",
        "\n",
        "Veamos algunos ejemplos sencillos y un programa simple:"
      ],
      "metadata": {
        "id": "P8JZL--q4f09"
      }
    },
    {
      "cell_type": "code",
      "source": [
        "# Igual a\n",
        "igual = (10 == 5)\n",
        "print(igual)\n",
        "\n",
        "# Diferente de\n",
        "diferente = (10 != 5)\n",
        "print(diferente)\n",
        "\n",
        "# Mayor que\n",
        "mayor_que = (10 > 5)\n",
        "print(mayor_que)\n",
        "\n",
        "# Menor que\n",
        "menor_que = (10 < 5)\n",
        "print(menor_que)\n",
        "\n",
        "# Mayor o igual que\n",
        "mayor_o_igual = (10 >= 5)\n",
        "print(mayor_o_igual)\n",
        "\n",
        "# Menor o igual que\n",
        "menor_o_igual = (10 <= 5)\n",
        "print(menor_o_igual)\n"
      ],
      "metadata": {
        "colab": {
          "base_uri": "https://localhost:8080/"
        },
        "id": "4AAABpes8Nvi",
        "outputId": "6403a096-e2e8-44be-f211-e6a002eaa14a"
      },
      "execution_count": null,
      "outputs": [
        {
          "output_type": "stream",
          "name": "stdout",
          "text": [
            "False\n",
            "True\n",
            "True\n",
            "False\n",
            "True\n",
            "False\n"
          ]
        }
      ]
    },
    {
      "cell_type": "code",
      "source": [
        "# Vamos a definir un valor de temperatura\n",
        "temperatura = 18.5\n",
        "\n",
        "# Determinamos los condicionales para clasificar la temperatura\n",
        "if temperatura < 10:\n",
        "    clasificacion = \"Frío\"\n",
        "elif 10 <= temperatura <= 25:\n",
        "    clasificacion = \"Templado\"\n",
        "else:\n",
        "    clasificacion = \"Caliente\"\n",
        "\n",
        "# Mostramos el resultado\n",
        "print(f\"La temperatura es {clasificacion}.\")\n"
      ],
      "metadata": {
        "colab": {
          "base_uri": "https://localhost:8080/"
        },
        "id": "XaSuIm92ULhb",
        "outputId": "37521992-fa25-4a71-a701-76f5b160f267"
      },
      "execution_count": null,
      "outputs": [
        {
          "output_type": "stream",
          "name": "stdout",
          "text": [
            "La temperatura es Templado.\n"
          ]
        }
      ]
    },
    {
      "cell_type": "markdown",
      "source": [
        "## Operadores Lógicos o Booleanos 💯\n",
        "\n",
        "Se utilizan para combinar expresiones lógicas y **evaluar múltiples condiciones** al mismo tiempo. Pueden ayudar a tomar decisiones, permitiendo la personalización de recomendaciones según diferentes escenarios.\n",
        "\n",
        "- Retorna `True` si ambas condiciones son `True`: `and`\n",
        "- Retorna `True` si al menos una de las condiciones es `True`: `or`\n",
        "- Invierte el valor lógico de una condición: `not`\n",
        "\n",
        "Veamos un ejemplo sencillo y un programa que simula un sistema de recomendación de actividades basadas en el clima y la hora del día."
      ],
      "metadata": {
        "id": "fhB7Grz56ivE"
      }
    },
    {
      "cell_type": "code",
      "source": [
        "# Determinamos las variables que representan las condiciones\n",
        "es_mayor_de_edad = True\n",
        "tiene_licencia_conducir = False\n",
        "\n",
        "# Verificamos si la persona cumple con ambos requisitos usando el operador lógico AND\n",
        "puede_conducir = es_mayor_de_edad and tiene_licencia_conducir\n",
        "\n",
        "# Mostramos el resultado\n",
        "print(puede_conducir)\n",
        "print(f\"¿La persona puede conducir? {puede_conducir}\")"
      ],
      "metadata": {
        "colab": {
          "base_uri": "https://localhost:8080/"
        },
        "id": "0GB1dDwmgCfs",
        "outputId": "66039699-c77c-4d3c-f2e6-f39d62be5b13"
      },
      "execution_count": null,
      "outputs": [
        {
          "output_type": "stream",
          "name": "stdout",
          "text": [
            "False\n",
            "¿La persona puede conducir? False\n"
          ]
        }
      ]
    },
    {
      "cell_type": "code",
      "source": [
        "# Programa de Sistema de recomendación de actividades.\n",
        "# Datos actuales\n",
        "hora = 19\n",
        "clima = \"soleado\"\n",
        "temperatura = 12\n",
        "\n",
        "# Recomendación de actividades\n",
        "# `and` asegura que ambas partes deben ser verdaderas para que la recomendación sea \"Salir a caminar\".\n",
        "if (hora < 18) and (clima == \"soleado\"):\n",
        "    recomendacion = \"Salir a caminar\"\n",
        "# `or` permite que cualquiera de las dos condiciones sea verdadera para recomendar \"Ver una película\".\n",
        "elif (hora >= 18) or (clima == \"lluvioso\"):\n",
        "    recomendacion = \"Ver una película\"\n",
        "# `not` invierte la condición de que esté lloviendo, por lo que si clima == \"lluvioso\" es falso, la recomendación se da.\n",
        "elif (temperatura < 15) and not (clima == \"lluvioso\"):\n",
        "    recomendacion = \"Tomar un café caliente en casa\"\n",
        "else:\n",
        "    recomendacion = \"Leer un libro\"\n",
        "\n",
        "print(f\"Recomendación: {recomendacion}\")\n"
      ],
      "metadata": {
        "colab": {
          "base_uri": "https://localhost:8080/"
        },
        "id": "W8JOeei5Ka-v",
        "outputId": "79e0146c-f3e8-4cd5-e288-5ba8a9c80005"
      },
      "execution_count": null,
      "outputs": [
        {
          "output_type": "stream",
          "name": "stdout",
          "text": [
            "Recomendación: Ver una película\n"
          ]
        }
      ]
    },
    {
      "cell_type": "markdown",
      "source": [
        "## Operadores de asignación ➗\n",
        "Se utilizan para **asignar valores a las variables** de manera **directa** o **combinada**.\n",
        "\n",
        "El más básico de estos operadores es el = (igual), que simplemente asigna el valor del lado derecho a la variable del lado izquierdo. Sin embargo, existen otros operadores de asignación que combinan la asignación con **operaciones aritméticas.**\n",
        "\n",
        "Estos operadores son una forma abreviada de escribir operaciones que involucran la variable misma, haciendo el código más limpio y fácil de leer.\n",
        "\n",
        "- Asignación simple `=`   \n",
        "- Suma y asigna `+=`  \n",
        "- Resta y asigna `-=`   \n",
        "- Multiplica y asigna `*=`   \n",
        "- Divide y asigna `/=`   \n",
        "- Módulo y asigna `%=`   \n",
        "- Potencia y asigna `**=`  \n",
        "- División entera y asigna `//=`"
      ],
      "metadata": {
        "id": "6UtYHlUz7XzO"
      }
    },
    {
      "cell_type": "code",
      "source": [
        "# Asignación simple\n",
        "x = 10\n",
        "print(f\"Valor inicial de x: {x}\")\n",
        "\n",
        "# Suma y asigna\n",
        "x += 5\n",
        "print(f\"Después de x += 5: {x}\")\n",
        "\n",
        "# Resta y asigna\n",
        "x -= 3\n",
        "print(f\"Después de x -= 3: {x}\")\n",
        "\n",
        "# Multiplica y asigna\n",
        "x *= 2\n",
        "print(f\"Después de x *= 2: {x}\")\n",
        "\n",
        "# Divide y asigna\n",
        "x /= 4\n",
        "print(f\"Después de x /= 4: {x}\")\n",
        "\n",
        "# Módulo y asigna\n",
        "x %= 4\n",
        "print(f\"Después de x %= 4: {x}\")\n",
        "\n",
        "# Exponenciación y asigna\n",
        "x **= 3\n",
        "print(f\"Después de x **= 3: {x}\")\n",
        "\n",
        "# División entera y asigna\n",
        "x //= 3\n",
        "print(f\"Después de x //= 3: {x}\")\n"
      ],
      "metadata": {
        "colab": {
          "base_uri": "https://localhost:8080/"
        },
        "id": "STVLVb3VhmEV",
        "outputId": "90acca6c-5aa9-4e81-baeb-3785da00db71"
      },
      "execution_count": null,
      "outputs": [
        {
          "output_type": "stream",
          "name": "stdout",
          "text": [
            "Valor inicial de x: 10\n",
            "Después de x += 5: 15\n",
            "Después de x -= 3: 12\n",
            "Después de x *= 2: 24\n",
            "Después de x /= 4: 6.0\n",
            "Después de x %= 4: 2.0\n",
            "Después de x **= 3: 8.0\n",
            "Después de x //= 3: 2.0\n"
          ]
        }
      ]
    },
    {
      "cell_type": "markdown",
      "source": [
        "## Caso de estudio 👩🏼‍💻\n",
        "\n",
        "Calculadora de Precio Final.\n",
        "\n",
        "Vamos a calcular el precio final de una compra después de aplicar un descuento y sumar los impuestos.\n",
        "\n",
        "En este ejemplo vamos a utilizar operadores aritméticos, de asignación, de comparación y lógicos."
      ],
      "metadata": {
        "id": "xDURsccBB_T7"
      }
    },
    {
      "cell_type": "code",
      "source": [
        "# Definimos las variables iniciales. Descuento e impuesto en porcentaje.\n",
        "precio_original = 100.0\n",
        "descuento = 20.0\n",
        "impuesto = 15.0\n",
        "\n",
        "# Calculamos el precio después del descuento. Empleamos Operadores Aritméticos y de Asignación\n",
        "precio_con_descuento = precio_original - (precio_original * descuento / 100)\n",
        "\n",
        "# Calculamos el precio después de agregar el impuesto. Empleamos Operadores Aritméticos y de Asignación\n",
        "precio_final = precio_con_descuento + (precio_con_descuento * impuesto / 100)\n",
        "\n",
        "# Verificamos si el precio final supera un límite. Empleamos Operador de Comparación\n",
        "limite_precio = 90.0\n",
        "es_superior_limite = precio_final > limite_precio\n",
        "\n",
        "# Decidimos si se debe aplicar un descuento adicional si el precio supera el límite. Empleamos Operador Lógico\n",
        "if es_superior_limite and precio_final > 100:\n",
        "    descuento_adicional = 10.0\n",
        "    precio_final -= (precio_final * descuento_adicional / 100)\n",
        "\n",
        "# Mostramos los resultados\n",
        "print(f\"Precio original: ${precio_original}\")\n",
        "print(f\"Descuento aplicado: {descuento}%\")\n",
        "print(f\"Precio después del descuento: ${precio_con_descuento:.2f}\")\n",
        "print(f\"Impuesto aplicado: {impuesto}%\")\n",
        "print(f\"Precio final: ${precio_final:.2f}\")\n",
        "\n",
        "# Evaluamos si el precio final es superior a un límite. Empleamos Operador de comparación:\n",
        "if precio_final <= 100:\n",
        "    print(\"El precio final es asequible.\")\n",
        "else:\n",
        "    print(\"El precio final es superior al límite esperado.\")\n"
      ],
      "metadata": {
        "colab": {
          "base_uri": "https://localhost:8080/"
        },
        "id": "a2X4Y6ilCdB9",
        "outputId": "5f901445-1b75-47d9-e330-ad4283daa110"
      },
      "execution_count": null,
      "outputs": [
        {
          "output_type": "stream",
          "name": "stdout",
          "text": [
            "Precio original: $100.0\n",
            "Descuento aplicado: 20.0%\n",
            "Precio después del descuento: $80.00\n",
            "Impuesto aplicado: 15.0%\n",
            "Precio final: $92.00\n",
            "El precio final es asequible.\n"
          ]
        }
      ]
    }
  ]
}