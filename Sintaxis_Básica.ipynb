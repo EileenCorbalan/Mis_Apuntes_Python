{
  "nbformat": 4,
  "nbformat_minor": 0,
  "metadata": {
    "colab": {
      "provenance": [],
      "authorship_tag": "ABX9TyNfFOzmO8n+dPCCupzrq2Ve",
      "include_colab_link": true
    },
    "kernelspec": {
      "name": "python3",
      "display_name": "Python 3"
    },
    "language_info": {
      "name": "python"
    }
  },
  "cells": [
    {
      "cell_type": "markdown",
      "metadata": {
        "id": "view-in-github",
        "colab_type": "text"
      },
      "source": [
        "<a href=\"https://colab.research.google.com/github/EileenCorbalan/Python_Apuntes/blob/main/Sintaxis_B%C3%A1sica.ipynb\" target=\"_parent\"><img src=\"https://colab.research.google.com/assets/colab-badge.svg\" alt=\"Open In Colab\"/></a>"
      ]
    },
    {
      "cell_type": "markdown",
      "source": [
        "# SINTAXIS BÁSICA EN PYTHON 🐍\n",
        "\n",
        "En esta notebook, exploraremos los conceptos fundamentales de la sintaxis en Python, incluyendo cómo declarar **variables**, los principales **tipos de datos**, cómo agregar **comentarios** y la estructura básica de un **script**. Vamos?"
      ],
      "metadata": {
        "id": "E-LusYYL8etJ"
      }
    },
    {
      "cell_type": "markdown",
      "source": [
        "## 📚 Introducción a la Sintaxis\n",
        "\n",
        "La sintaxis en Python se refiere a las **reglas y estructuras** que debemos seguir para escribir código en este lenguaje de programación.\n",
        "\n",
        "Python es un lenguaje de programación **interpretado**, lo que significa que el código es ejecutado línea por línea directamente desde el código fuente.\n",
        "\n",
        "Dicho de otra manera, en Python, el código fuente es ejecutado directamente por un intérprete, sin necesidad de compilarlo previamente en código máquina o binario, como es el caso de otros lenguajes de programación.\n",
        "\n",
        "¿A qué nos referimos con \"intérprete\"?\n",
        "\n",
        "Interprete es el programa que se encarga de **leer y ejecutar** el código Python. Este intérprete toma el código fuente escrito en Python, lo convierte en un formato que la computadora pueda entender y lo ejecuta línea por línea.\n",
        "\n",
        "El intérprete de Python es un software desarrollado y mantenido por la comunidad de Python, y está disponible para múltiples plataformas como Windows, macOS, y Linux. Al instalar Python en tu computadora, también estás instalando el intérprete de Python.\n",
        "\n",
        "Por lo anterior podemos concluir que la sintaxis **clara y sencilla** de Python facilita que el intérprete lea y ejecute cada línea de código de manera secuencial. Si hay un error en la sintaxis, Python lo detectará inmediatamente y detendrá la ejecución, lo que nos ayuda a identificar y corregir errores rápidamente.\n",
        "\n",
        "Por ejemplo:"
      ],
      "metadata": {
        "id": "xfNMVGx1-uNf"
      }
    },
    {
      "cell_type": "code",
      "source": [
        "# Sintaxis correcta, el código se ejecuta\n",
        "print(\"Hola, mundo\")"
      ],
      "metadata": {
        "colab": {
          "base_uri": "https://localhost:8080/"
        },
        "id": "cEDkE0-marut",
        "outputId": "22c35522-792d-41f1-bb8f-bd7b08c15730"
      },
      "execution_count": 12,
      "outputs": [
        {
          "output_type": "stream",
          "name": "stdout",
          "text": [
            "Hola, mundo\n"
          ]
        }
      ]
    },
    {
      "cell_type": "code",
      "source": [
        "# Sintaxis incorrecta, se detendrá la ejecución y nos marcará el error de sintaxis\n",
        "print(\"Hola, mundo\""
      ],
      "metadata": {
        "id": "Pd1CjJpWaze_"
      },
      "execution_count": null,
      "outputs": []
    },
    {
      "cell_type": "markdown",
      "source": [
        "##📊 La primera función\n",
        "\n",
        "La función `print()` en Python se utiliza para mostrar mensajes, resultados o cualquier tipo de información en la consola o terminal.\n",
        "\n",
        "Es una de las funciones más básicas y ampliamente utilizadas en Python, ideal para informar al usuario sobre el estado del programa, o simplemente mostrar resultados.\n",
        "\n",
        "Veamos algunos ejemplos:"
      ],
      "metadata": {
        "id": "T16HyK1oerEn"
      }
    },
    {
      "cell_type": "code",
      "source": [
        "# Ejemplos con cadenas de texto y números\n",
        "print(\"Hola, mundo\")\n",
        "print(25)"
      ],
      "metadata": {
        "colab": {
          "base_uri": "https://localhost:8080/"
        },
        "id": "NoZnwZ6rgAhe",
        "outputId": "10c1687b-468b-47d7-8cd1-c9248c938afe"
      },
      "execution_count": 16,
      "outputs": [
        {
          "output_type": "stream",
          "name": "stdout",
          "text": [
            "Hola, mundo\n",
            "25\n"
          ]
        }
      ]
    },
    {
      "cell_type": "markdown",
      "source": [
        "## 📝 Comentarios\n",
        "\n",
        "Los comentarios son líneas de código que **no se ejecutan**. Las vamos a utilizar  para agregar notas o descripciones en el código.\n",
        "\n",
        "Los comentarios de una línea se inician con #.\n",
        "\n",
        "Veamos un ejemplo:"
      ],
      "metadata": {
        "id": "fLCMjQoBPaq3"
      }
    },
    {
      "cell_type": "code",
      "source": [
        "# Este es un comentario"
      ],
      "metadata": {
        "id": "xDGHabxaPZvS"
      },
      "execution_count": 13,
      "outputs": []
    },
    {
      "cell_type": "markdown",
      "source": [
        "## 💻 Variables\n",
        "\n",
        "Las variables podemos entenderlas como contenedores, los cuales se utilizan para almacenar **datos**.\n",
        "\n",
        "Un punto importante es que no necesitamos aclarar el tipo de la dato, ya que Python lo asigna automáticamente.\n",
        "\n",
        "A cada variable vamos a asignarle un nombre único, el cual nos va a servir para referenciarla en el código y poder trabajar con ella. Los nombres de variables deben comenzar con una letra o un guion bajo (_).\n",
        "\n",
        "Es recomendable que utilicemos **nombres de variables descriptivos**, ya que esto hace que nuestro código sea más legible.\n",
        "\n",
        "Veamos ejemplos:"
      ],
      "metadata": {
        "id": "vtaILTCE_iXi"
      }
    },
    {
      "cell_type": "code",
      "source": [
        "# Declaración correcta de variables\n",
        "mi_primera_variable = \"Hola\"\n",
        "_mi_segunda_variable = 2024"
      ],
      "metadata": {
        "id": "xch94P4C_9bE"
      },
      "execution_count": 5,
      "outputs": []
    },
    {
      "cell_type": "code",
      "source": [
        "# Declaración incorrecta de variable\n",
        "3era variable = \"Hoy es jueves\""
      ],
      "metadata": {
        "id": "7d1TW73TW27l"
      },
      "execution_count": null,
      "outputs": []
    },
    {
      "cell_type": "markdown",
      "source": [
        "\n",
        "## 💯 Tipos de Datos\n",
        "\n",
        "Python soporta varios tipos de datos. Dichos datos son contenidos dentro de las **variables**, como mencionamos anteriormente.\n",
        "\n",
        "A grandes rasgos, podemos clasificarlos en tipos de datos **primitivos** y **colecciones**. A continuación, se presentan los más comunes:\n",
        "\n",
        "### Datos Primitivos:\n",
        "- `int`: Enteros\n",
        "- `float`: Números decimales\n",
        "- `str`: Cadenas de texto\n",
        "- `bool`: Booleanos (True o False)\n",
        "\n",
        "### Colecciones:\n",
        "- `list`: Listas\n",
        "- `dict`: Diccionarios\n",
        "- `tuple`: Tuplas\n",
        "\n",
        "Veamos algunos ejemplos:\n"
      ],
      "metadata": {
        "id": "zDTa-ViXC1s5"
      }
    },
    {
      "cell_type": "code",
      "source": [
        "# Ejemplos de datos primitivos\n",
        "numero_entero = 10\n",
        "numero_decimal = 3.14\n",
        "cadena_de_texto = \"Hola, Python\"\n",
        "es_verdadero = True"
      ],
      "metadata": {
        "id": "hwlzKJnDDxbv"
      },
      "execution_count": 4,
      "outputs": []
    },
    {
      "cell_type": "code",
      "source": [
        "# Ejemplos de colecciones\n",
        "lista = [\"manzana\", \"banana\"]\n",
        "diccionario = {\n",
        "    \"nombre\": \"Ana\",\n",
        "    \"edad\": 28,\n",
        "    \"ciudad\": \"Buenos Aires\",\n",
        "    \"ocupacion\": \"Ingeniera\",\n",
        "    \"intereses\": [\"tecnología\", \"nutrición\", \"viajar\"]\n",
        "}"
      ],
      "metadata": {
        "id": "WWweAvB_EMEz"
      },
      "execution_count": 6,
      "outputs": []
    },
    {
      "cell_type": "markdown",
      "source": [
        "## 👩🏼‍💻 Script\n",
        "\n",
        "Un **script** en Python es un archivo de texto que contiene código escrito en el lenguaje de programación Python.\n",
        "Este código puede ser ejecutado para realizar una tarea específica o una serie de tareas.\n",
        "\n",
        "### Características de un Script en Python:\n",
        "\n",
        "- **Autónomo:** Un script es un programa que puede ejecutarse de principio a fin sin necesidad de intervención adicional.\n",
        "\n",
        "- **Propósito específico:** Normalmente, un script está diseñado para llevar a cabo una función específica, como procesar datos, realizar cálculos, automatizar tareas, etc.\n",
        "\n",
        "- **Archivo .py:** Los scripts de Python se guardan en archivos con la extensión .py.\n",
        "\n",
        "### Estructura general de un Script en Python\n",
        "\n",
        "1. Importación de librerías (si es necesario)\n",
        "2. Declaración de variables\n",
        "3. Definición de funciones (si es necesario)\n",
        "4. Lógica principal\n",
        "\n",
        "Veamos un ejemplo de Script (Podemos observar también la sintaxis particular de cada línea de código)\n"
      ],
      "metadata": {
        "id": "vGannW7XEfig"
      }
    },
    {
      "cell_type": "code",
      "source": [
        "# Importación de librerías\n",
        "import math\n",
        "\n",
        "# Declaración de variables\n",
        "radio = 5\n",
        "\n",
        "# Definición de funciones\n",
        "def calcular_area(r):\n",
        "    return math.pi * r ** 2\n",
        "\n",
        "# Lógica principal\n",
        "area = calcular_area(radio)\n",
        "print(f\"El área del círculo es: {area}\")"
      ],
      "metadata": {
        "colab": {
          "base_uri": "https://localhost:8080/"
        },
        "id": "hn3EhqGdTQEi",
        "outputId": "8b03bbfa-3e67-45f2-d3b5-769db650a6ae"
      },
      "execution_count": 7,
      "outputs": [
        {
          "output_type": "stream",
          "name": "stdout",
          "text": [
            "El área del círculo es: 78.53981633974483\n"
          ]
        }
      ]
    },
    {
      "cell_type": "markdown",
      "source": [
        "## 🔧 Fuentes y recursos:\n",
        "- [Documentación de Python](https://docs.python.org/es/3/contents.html)"
      ],
      "metadata": {
        "id": "PjwfGLOEEuMV"
      }
    }
  ]
}