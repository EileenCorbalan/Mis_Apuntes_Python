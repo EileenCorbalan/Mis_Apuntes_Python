{
  "nbformat": 4,
  "nbformat_minor": 0,
  "metadata": {
    "colab": {
      "provenance": [],
      "authorship_tag": "ABX9TyMi8egZGiSSE7w3C6td3/GV",
      "include_colab_link": true
    },
    "kernelspec": {
      "name": "python3",
      "display_name": "Python 3"
    },
    "language_info": {
      "name": "python"
    }
  },
  "cells": [
    {
      "cell_type": "markdown",
      "metadata": {
        "id": "view-in-github",
        "colab_type": "text"
      },
      "source": [
        "<a href=\"https://colab.research.google.com/github/EileenCorbalan/Python_Apuntes/blob/main/Tipos_de__datos__y_manejo_strings.ipynb\" target=\"_parent\"><img src=\"https://colab.research.google.com/assets/colab-badge.svg\" alt=\"Open In Colab\"/></a>"
      ]
    },
    {
      "cell_type": "markdown",
      "source": [
        "# 💯Tipos de datos Primitivos y Colecciones. Manejo de Strings\n",
        "\n",
        "En esta oportunidad profundizaremos sobre los tipos de **datos primitivos** y **colecciones**, sus **propiedades** y sus **usos**\n",
        "\n",
        "Los **datos primitivos** son aquellos que representan valores simples y que no se pueden descomponer en otros tipos de datos. Toman ese nombre porque son básicos y fundamentales para cualquier operación de programación. Los principales tipos de datos primitivos en Python son:\n",
        "\n",
        "`str`: Strings.\n",
        "\n",
        "`bool` : Booleans.\n",
        "\n",
        "`float`: Floats.\n",
        "\n",
        "`int` : Integers.\n",
        "\n",
        "`none` : Valor nulo.\n",
        "\n",
        "Mientras que los tipos de **datos de colecciones** en Python son estructuras que permiten agrupar múltiples elementos en un solo objeto. Estos son muy útiles para manejar conjuntos de datos, organizar información y realizar operaciones sobre grupos de elementos. Los tipos de colecciones más comunes en Python son:\n",
        "\n",
        "`list`: Listas.\n",
        "\n",
        "`tuple`: Tuplas.\n",
        "\n",
        "`set` : Colecciones\n",
        "\n",
        "`dict`: Diccionarios."
      ],
      "metadata": {
        "id": "VnQ4rxR55QIr"
      }
    },
    {
      "cell_type": "markdown",
      "source": [
        "## 📊 Datos Primitivos"
      ],
      "metadata": {
        "id": "5Ds-DrK-UV1A"
      }
    },
    {
      "cell_type": "markdown",
      "source": [
        "### 👩🏼‍💻 Propiedades Generales de los Datos Primitivos\n",
        "\n",
        "- **Inmutabilidad:** Los tipos de datos primitivos son inmutables, es decir que no se pueden cambiar después de su creación, en lugar de ello se crea un nuevo objeto con el nuevo valor.  La inmutabilidad es importante porque garantiza la consistencia de los valores y facilita el razonamiento sobre el estado del programa.\n",
        "\n",
        "- **Orden e Indexación**: Un tipo de dato ordenado es en el cual los elementos mantienen un orden específico. Esto significa que la posición de los elementos importa.\n",
        "Cuando un tipo de dato es indexado, se puede acceder a sus elementos individuales utilizando un índice, que generalmente es un número entero que representa la posición del elemento.\n",
        "\n",
        "- **Duplicados**: Este término se refiere a si un tipo de dato permite almacenar más de un elemento con el mismo valor.\n",
        "\n",
        "\n"
      ],
      "metadata": {
        "id": "bsGjdirCLsdm"
      }
    },
    {
      "cell_type": "markdown",
      "source": [
        "### Tabla Resumen\n",
        "\n",
        "\n",
        "| Tipo de Dato      | Mutable/Immutable | Ordenado/Indexado | Permite Duplicados | Ejemplo Vacío       | Ejemplo con un Elemento         |\n",
        "|-------------------|-------------------|-------------------|--------------------|---------------------|---------------------------------|\n",
        "| **String**        | Immutable         | Ordenado/Indexado | Sí                 | `\"\"`                | `\"P\"`                           |\n",
        "| **Boolean**       | Immutable         | No aplica         | No aplica          | `None`              | `True` / `False`                |\n",
        "| **Float**         | Immutable         | No aplica         | No aplica          | `0.0`               | `3.14`                          |\n",
        "| **Integer**       | Immutable         | No aplica         | No aplica          | `0`                 | `42`                            |\n",
        "| **None**          | Immutable         | No aplica         | No aplica          | `None`              | `None`                          |\n",
        "\n"
      ],
      "metadata": {
        "id": "F7DlgWLKLRRm"
      }
    },
    {
      "cell_type": "markdown",
      "source": [
        "### Strings (`str`)\n",
        "\n",
        "Un string es una cadena de caracteres. Las cadenas son un tipo de dato fundamental y ofrecen una amplia variedad de operaciones y métodos para trabajar con ellas de manera eficiente."
      ],
      "metadata": {
        "id": "4qP4PakQX12_"
      }
    },
    {
      "cell_type": "code",
      "source": [
        "# Declaro variables str\n",
        "pais = \"Argentina\"\n",
        "provincia = 'Buenos Aires'"
      ],
      "metadata": {
        "id": "zvcCqzrBX1WX"
      },
      "execution_count": 36,
      "outputs": []
    },
    {
      "cell_type": "markdown",
      "source": [
        "#### Usos (`str`)\n",
        "\n",
        "Podemos utilizarlos, entre otras cosas, para:\n",
        "1. Almacenar texto\n",
        "2. Concatenar: unir múltiples strings\n",
        "3. Formateo de texto: Crear cadenas con variables dentro."
      ],
      "metadata": {
        "id": "y9WccYyRZc1F"
      }
    },
    {
      "cell_type": "code",
      "source": [
        "# 1. Almaceno texto\n",
        "nombre = \"Ana\"\n",
        "apellido = \"Gomez\""
      ],
      "metadata": {
        "id": "tz7FSadCzLgu"
      },
      "execution_count": 37,
      "outputs": []
    },
    {
      "cell_type": "code",
      "source": [
        "# 2. Concateno strings anteriores\n",
        "nombre_completo = apellido + \",\" + nombre\n",
        "print(nombre_completo)"
      ],
      "metadata": {
        "id": "C_ODxm9ZZ-zM",
        "colab": {
          "base_uri": "https://localhost:8080/"
        },
        "outputId": "657e0182-d122-40fd-9ed9-3950b6c01e9b"
      },
      "execution_count": 38,
      "outputs": [
        {
          "output_type": "stream",
          "name": "stdout",
          "text": [
            "Gomez,Ana\n"
          ]
        }
      ]
    },
    {
      "cell_type": "markdown",
      "source": [
        "##### 3. Formateo de texto\n",
        "\n",
        "Vamos a utilizar f-strings para realizar el formateo de texto, esto permite incrustar expresiones dentro de cadenas literales utilizando el prefijo `f`.\n",
        "\n",
        "Además mediante el método `.format()` podemos formatear cadenas de texto al insertar variables dentro de ellas mediante llaves {}.\n",
        "\n",
        "Las f-strings son generalmente preferidas por su simplicidad y rendimiento en la mayoría de los casos. Sin embargo, .format() sigue siendo útil cuando necesitamos un control más detallado del formateo.\n"
      ],
      "metadata": {
        "id": "IpG7LpAi0WZ_"
      }
    },
    {
      "cell_type": "code",
      "source": [
        "# Utilizo f-strings\n",
        "print(f\"Hola {nombre} {apellido}, ¿Cómo estás?\")"
      ],
      "metadata": {
        "id": "12-XNf8BIp6c",
        "colab": {
          "base_uri": "https://localhost:8080/"
        },
        "outputId": "92e3d9c4-1fa8-4088-9dbd-d90e5f02b30c"
      },
      "execution_count": 39,
      "outputs": [
        {
          "output_type": "stream",
          "name": "stdout",
          "text": [
            "Hola Ana Gomez, ¿Cómo estás?\n"
          ]
        }
      ]
    },
    {
      "cell_type": "code",
      "source": [
        "#Utilizo el método .format()\n",
        "nombre = \"Maria\"\n",
        "edad = 35\n",
        "saludo = \"Hola, mi nombre es {} y tengo {} años.\".format(nombre, edad)\n",
        "print(saludo)\n"
      ],
      "metadata": {
        "colab": {
          "base_uri": "https://localhost:8080/"
        },
        "id": "yYoN4xfF0Ucx",
        "outputId": "ebdc7150-f6f3-4b17-aef2-52db6208a273"
      },
      "execution_count": 40,
      "outputs": [
        {
          "output_type": "stream",
          "name": "stdout",
          "text": [
            "Hola, mi nombre es Maria y tengo 35 años.\n"
          ]
        }
      ]
    },
    {
      "cell_type": "markdown",
      "source": [
        "### Boolean (`bool`)\n",
        "\n",
        "Los booleanos son valores lógicos que pueden ser True (verdadero) o False (falso).\n",
        "\n",
        "Bool es una subclase de int, pero se pueden usar operadores lógicos (and, or, not) para manipularlos."
      ],
      "metadata": {
        "id": "27AUJ41ffmX3"
      }
    },
    {
      "cell_type": "markdown",
      "source": [
        "#### Usos (`bool`)\n",
        "1. Control de flujo\n",
        "2. Evaluación de expresiones lógicas\n"
      ],
      "metadata": {
        "id": "WE4auAW5z6ue"
      }
    },
    {
      "cell_type": "code",
      "source": [
        "#Control de flujo\n",
        "es_adulto = True\n",
        "if es_adulto:\n",
        "    print(\"Es un adulto.\")\n"
      ],
      "metadata": {
        "colab": {
          "base_uri": "https://localhost:8080/"
        },
        "id": "cPKmFkI-2tYr",
        "outputId": "7e4be2a5-23c2-47d2-ee91-c354e95278a2"
      },
      "execution_count": 21,
      "outputs": [
        {
          "output_type": "stream",
          "name": "stdout",
          "text": [
            "Es un adulto.\n"
          ]
        }
      ]
    },
    {
      "cell_type": "code",
      "source": [
        "#Evaluación de expresiones lógicas\n",
        "x = 5\n",
        "y = 10\n",
        "es_mayor = x > y\n",
        "print(es_mayor)"
      ],
      "metadata": {
        "colab": {
          "base_uri": "https://localhost:8080/"
        },
        "id": "GE4Pkt4r66LD",
        "outputId": "ecc19e61-c001-44eb-9d36-c32287706a64"
      },
      "execution_count": 23,
      "outputs": [
        {
          "output_type": "stream",
          "name": "stdout",
          "text": [
            "False\n"
          ]
        }
      ]
    },
    {
      "cell_type": "markdown",
      "source": [
        "### Floats (`float`)\n",
        "\n",
        "Los floats son números que tienen una parte decimal. Se utilizan para representar valores con fracciones."
      ],
      "metadata": {
        "id": "nMWRds9c3mU9"
      }
    },
    {
      "cell_type": "code",
      "source": [
        "# Declaro variables float\n",
        "pi = 3.14159\n",
        "altura = 1.75"
      ],
      "metadata": {
        "id": "SkaXPk3J4bBg"
      },
      "execution_count": 17,
      "outputs": []
    },
    {
      "cell_type": "markdown",
      "source": [
        "#### Usos (`float`)\n",
        "\n",
        "1. Cálculos matemáticos y operaciones aritméticas.\n",
        "2. Trabajar con medidas, proporciones y estadísticas.\n"
      ],
      "metadata": {
        "id": "uUxecpC_4eoz"
      }
    },
    {
      "cell_type": "code",
      "source": [
        "# Resuelvo un cálculo matemático\n",
        "pi = 3.14159\n",
        "radio = 2.5\n",
        "area = pi * radio**2\n",
        "print(area)"
      ],
      "metadata": {
        "colab": {
          "base_uri": "https://localhost:8080/"
        },
        "id": "M9zoBTY46Ilh",
        "outputId": "0d21da90-b913-4862-965d-5bc00566bf93"
      },
      "execution_count": 19,
      "outputs": [
        {
          "output_type": "stream",
          "name": "stdout",
          "text": [
            "19.6349375\n"
          ]
        }
      ]
    },
    {
      "cell_type": "code",
      "source": [
        "# Trabajo con estadística\n",
        "total = 150.0\n",
        "porcentaje = 0.25\n",
        "parte = total * porcentaje\n",
        "print(parte)"
      ],
      "metadata": {
        "colab": {
          "base_uri": "https://localhost:8080/"
        },
        "id": "gEKKdSo16I1_",
        "outputId": "bf51b760-16f7-4705-f4d9-d4511d2d4974"
      },
      "execution_count": 20,
      "outputs": [
        {
          "output_type": "stream",
          "name": "stdout",
          "text": [
            "37.5\n"
          ]
        }
      ]
    },
    {
      "cell_type": "markdown",
      "source": [
        "### Integer (`int`)\n",
        " Los enteros son números sin parte decimal, positivos o negativos."
      ],
      "metadata": {
        "id": "BDW4t6j95Ck7"
      }
    },
    {
      "cell_type": "code",
      "source": [
        "# Declaro variables int\n",
        "edad = 30\n",
        "temperatura = -5"
      ],
      "metadata": {
        "id": "WTV8bIET5Np2"
      },
      "execution_count": 9,
      "outputs": []
    },
    {
      "cell_type": "markdown",
      "source": [
        "#### Usos (`int`)\n",
        "\n",
        "1. Operaciones aritméticas."
      ],
      "metadata": {
        "id": "-mXgX_E45P5L"
      }
    },
    {
      "cell_type": "code",
      "source": [
        "# Resuelvo operación aritmética\n",
        "a = 10\n",
        "b = 3\n",
        "resultado = a * b\n",
        "print(resultado)\n"
      ],
      "metadata": {
        "colab": {
          "base_uri": "https://localhost:8080/"
        },
        "id": "qFiTIkl54mTr",
        "outputId": "7f1ecb31-2412-48eb-f855-f2df133c8eec"
      },
      "execution_count": 11,
      "outputs": [
        {
          "output_type": "stream",
          "name": "stdout",
          "text": [
            "30\n"
          ]
        }
      ]
    },
    {
      "cell_type": "markdown",
      "source": [
        "### None (Valor nulo)\n",
        "None es un valor especial que representa la ausencia de un valor o un valor nulo. No es lo mismo que 0, False o una cadena vacía."
      ],
      "metadata": {
        "id": "i8TseK1Y5k4V"
      }
    },
    {
      "cell_type": "code",
      "source": [
        "# Declaro variable None\n",
        "resultado = None"
      ],
      "metadata": {
        "id": "CpMrpnEg5yeg"
      },
      "execution_count": 14,
      "outputs": []
    },
    {
      "cell_type": "markdown",
      "source": [
        "#### Usos None\n",
        "\n",
        "1. Indicador de ausencia de valor."
      ],
      "metadata": {
        "id": "FanGKh8d5v6n"
      }
    },
    {
      "cell_type": "code",
      "source": [
        "# 1. Indico ausencia de valor\n",
        "valor = None\n",
        "if valor is None:\n",
        "    print(\"No hay valor asignado.\")\n"
      ],
      "metadata": {
        "id": "LlTTUdVT57fL",
        "colab": {
          "base_uri": "https://localhost:8080/"
        },
        "outputId": "26abc0ef-aad1-4f24-f457-62bd48535dc1"
      },
      "execution_count": 15,
      "outputs": [
        {
          "output_type": "stream",
          "name": "stdout",
          "text": [
            "No hay valor asignado.\n"
          ]
        }
      ]
    },
    {
      "cell_type": "markdown",
      "source": [
        "## 📊 Datos de Colecciones"
      ],
      "metadata": {
        "id": "Yug5DdTTUend"
      }
    },
    {
      "cell_type": "markdown",
      "source": [
        "### 👩🏼‍💻 Propiedades Generales de los Datos de Colecciones\n",
        "\n",
        "- **Orden:**\n",
        "Listas y tuplas son colecciones ordenadas, lo que significa que los elementos tienen un orden definido y se puede acceder a ellos mediante índices.\n",
        "Conjuntos y diccionarios son colecciones desordenadas, lo que significa que no garantizan un orden específico de los elementos.\n",
        "\n",
        "- **Mutabilidad:**\n",
        "Listas y diccionarios son mutables, lo que significa que sus elementos pueden ser modificados, añadidos o eliminados después de que la colección haya sido creada.\n",
        "Tuplas son inmutables, lo que significa que una vez creada la tupla, sus elementos no pueden ser modificados.\n",
        "Conjuntos son mutables, pero como los elementos dentro de un conjunto deben ser únicos y no se accede a ellos por índice, no se pueden modificar los elementos individuales, pero sí agregar o eliminar elementos del conjunto.\n",
        "\n",
        "- **Acceso:**\n",
        "Listas y tuplas permiten el acceso a sus elementos mediante índices numéricos, donde el primer elemento está en el índice 0.\n",
        "Diccionarios permiten el acceso a sus valores a través de claves, no índices.\n",
        "Conjuntos no permiten el acceso directo a elementos mediante índices o claves debido a su naturaleza desordenada.\n",
        "\n",
        "- **Duplicación:**\n",
        "Listas y tuplas permiten elementos duplicados, es decir, se pueden tener varios elementos con el mismo valor.\n",
        "Conjuntos y diccionarios no permiten duplicados; en un conjunto, todos los elementos deben ser únicos, y en un diccionario, las claves deben ser únicas (aunque los valores asociados pueden repetirse).\n",
        "\n",
        "- **Iterabilidad:**\n",
        "Todos los tipos de colecciones (listas, tuplas, conjuntos y diccionarios) son iterables, lo que significa que se pueden recorrer en un bucle (for), lo que permite realizar operaciones en cada elemento de la colección.\n",
        "\n",
        "- **Tipo de elementos:**\n",
        "Listas, tuplas y conjuntos pueden contener elementos de cualquier tipo de datos (números, cadenas, objetos, etc.), incluso tipos mixtos dentro de la misma colección.\n",
        "Diccionarios pueden tener claves y valores de cualquier tipo, pero las claves deben ser de un tipo inmutable (como cadenas, números o tuplas).\n",
        "\n",
        "- **Tamaño dinámico:**\n",
        "Listas, conjuntos y diccionarios tienen un tamaño dinámico, lo que significa que pueden crecer o reducirse a medida que se añaden o eliminan elementos.\n",
        "Tuplas tienen un tamaño fijo, definido en el momento de su creación y no se pueden modificar."
      ],
      "metadata": {
        "id": "N7HowKi9VtZt"
      }
    },
    {
      "cell_type": "markdown",
      "source": [
        "### Tabla Resumen\n",
        "\n",
        "| **Tipo de Dato** | **Orden**         | **Mutabilidad** | **Acceso**              | **Duplicación** | **Iterabilidad** | **Tipo de Elementos** | **Tamaño Dinámico** | **Ejemplo Vacío** | **Ejemplo con un Elemento** |\n",
        "|------------------|-------------------|-----------------|-------------------------|-----------------|------------------|-----------------------|---------------------|-------------------|-----------------------------|\n",
        "| `list`           | Ordenada          | Mutable         | Por índice              | Permite         | Sí               | Cualquier tipo        | Sí                  | `[]`              | `[elemento]`                |\n",
        "| `tuple`          | Ordenada          | Inmutable       | Por índice              | Permite         | Sí               | Cualquier tipo        | No                  | `()`              | `(elemento,)`               |\n",
        "| `set`            | Desordenada       | Mutable         | No permite acceso por índice | No permite      | Sí               | Cualquier tipo (únicos) | Sí               | `set()`           | `{elemento}`                |\n",
        "| `dict`           | Desordenada | Mutable | Por clave               | Claves no permiten, valores sí | Sí | Clave: Cualquier tipo inmutable, Valor: Cualquier tipo | Sí | `{}` | `{'clave': 'valor'}` |\n"
      ],
      "metadata": {
        "id": "LFkwPCP2X3lw"
      }
    },
    {
      "cell_type": "markdown",
      "source": [
        "### Listas (`list`)\n",
        "Una lista es una colección ordenada de elementos que pueden ser de distintos tipos. Las listas son mutables, lo que significa que se pueden modificar después de ser creadas (añadir, eliminar, o cambiar elementos).\n"
      ],
      "metadata": {
        "id": "ibzjKbdK7cdh"
      }
    },
    {
      "cell_type": "code",
      "source": [
        "# Declaro lista\n",
        "mi_lista = [1, 2, 3, 'a', 'b', 'c']"
      ],
      "metadata": {
        "id": "89w3yK-47t6v"
      },
      "execution_count": 24,
      "outputs": []
    },
    {
      "cell_type": "markdown",
      "source": [
        "#### Usos (`list`)\n",
        "\n",
        "1. Almacenar secuencias de datos.\n",
        "2. Manipulación y acceso a elementos por su índice."
      ],
      "metadata": {
        "id": "jpdGbF5J78fW"
      }
    },
    {
      "cell_type": "code",
      "source": [
        "# Defino una lista\n",
        "frutas = [\"manzana\", \"banana\", \"cereza\"]\n",
        "# Añado un elemento al final de la lista\n",
        "frutas.append(\"naranja\")\n",
        "print(frutas)"
      ],
      "metadata": {
        "colab": {
          "base_uri": "https://localhost:8080/"
        },
        "id": "3erRimnB8d02",
        "outputId": "e3805e8b-d33f-430f-b7b9-c8af5cd47445"
      },
      "execution_count": 27,
      "outputs": [
        {
          "output_type": "stream",
          "name": "stdout",
          "text": [
            "['manzana', 'banana', 'cereza', 'naranja']\n"
          ]
        }
      ]
    },
    {
      "cell_type": "markdown",
      "source": [
        "### Tuplas (`tuple`)\n",
        "Una tupla es similar a una lista, pero es inmutable, es decir, una vez creada, no se pueden modificar sus elementos. Son útiles cuando se necesita una colección de elementos que no debe cambiar."
      ],
      "metadata": {
        "id": "K_xJm_pb85Dr"
      }
    },
    {
      "cell_type": "code",
      "source": [
        "# Declaro Tupla\n",
        "mi_tupla = (1, 2, 3, 'a', 'b', 'c')"
      ],
      "metadata": {
        "id": "PB6tFMUW9C2Y"
      },
      "execution_count": 28,
      "outputs": []
    },
    {
      "cell_type": "markdown",
      "source": [
        "#### Usos (`tuple`)\n",
        "\n",
        "1. Almacenar datos que no deberían modificarse (por ejemplo, coordenadas, fechas).\n",
        "2. Desempaquetar múltiples valores de una vez."
      ],
      "metadata": {
        "id": "Gz_0T1Js9Mq1"
      }
    },
    {
      "cell_type": "code",
      "source": [
        "# Defino una tupla\n",
        "coordenadas = (10.5, 25.3)\n",
        "# Desempaqueto la tupla\n",
        "x, y = coordenadas\n",
        "print(x, y)\n"
      ],
      "metadata": {
        "colab": {
          "base_uri": "https://localhost:8080/"
        },
        "id": "RzLjPLx29Ypj",
        "outputId": "0b7d2bca-ecdc-41bf-c6ed-2644c723fb76"
      },
      "execution_count": 30,
      "outputs": [
        {
          "output_type": "stream",
          "name": "stdout",
          "text": [
            "10.5 25.3\n"
          ]
        }
      ]
    },
    {
      "cell_type": "markdown",
      "source": [
        "### Conjuntos (`set`)\n",
        "\n",
        "Un conjunto es una colección desordenada de elementos únicos, es decir, no puede haber elementos duplicados en un conjunto. Los conjuntos son mutables, pero no se puede acceder a sus elementos por índice."
      ],
      "metadata": {
        "id": "5hiQHkyx9uhB"
      }
    },
    {
      "cell_type": "code",
      "source": [
        "# Declaro conjunto\n",
        "mi_conjunto = {1, 2, 3, 'a', 'b', 'c'}"
      ],
      "metadata": {
        "id": "uexs3slq-l--"
      },
      "execution_count": 31,
      "outputs": []
    },
    {
      "cell_type": "markdown",
      "source": [
        "#### Usos (`set`)\n",
        "\n",
        "1. Eliminar duplicados de una colección de datos.\n",
        "2. Operaciones matemáticas como unión, intersección y diferencia."
      ],
      "metadata": {
        "id": "-sdGKAMF-vNM"
      }
    },
    {
      "cell_type": "code",
      "source": [
        "numeros = {1, 2, 3, 4, 5}\n",
        "otros_numeros = {4, 5, 6, 7, 8}\n",
        "# Uno los conjuntos\n",
        "union = numeros.union(otros_numeros)\n",
        "print(union)\n"
      ],
      "metadata": {
        "colab": {
          "base_uri": "https://localhost:8080/"
        },
        "id": "NB9eGn0V-4St",
        "outputId": "59eefb3e-1cc4-4599-9e8d-85881f7b186d"
      },
      "execution_count": 32,
      "outputs": [
        {
          "output_type": "stream",
          "name": "stdout",
          "text": [
            "{1, 2, 3, 4, 5, 6, 7, 8}\n"
          ]
        }
      ]
    },
    {
      "cell_type": "markdown",
      "source": [
        "### Diccionarios (`dict`)\n",
        "\n",
        "Un diccionario es una colección desordenada de pares clave-valor. Las claves son únicas dentro del diccionario, y se utilizan para acceder a sus valores correspondientes. Los diccionarios son mutables."
      ],
      "metadata": {
        "id": "UqUbzOvi_HOE"
      }
    },
    {
      "cell_type": "code",
      "source": [
        "# Declaro diccionario\n",
        "mi_diccionario = {'clave1': 'valor1', 'clave2': 'valor2'}"
      ],
      "metadata": {
        "id": "OeV1lyGi_QSr"
      },
      "execution_count": 33,
      "outputs": []
    },
    {
      "cell_type": "markdown",
      "source": [
        "#### Usos (dict)\n",
        "\n",
        "1. Almacenar datos asociados (por ejemplo, nombres y edades).\n",
        "2. Acceso rápido a los valores mediante claves."
      ],
      "metadata": {
        "id": "uprASHvk_Xfv"
      }
    },
    {
      "cell_type": "code",
      "source": [
        "estudiante = {\"nombre\": \"Juan\", \"edad\": 21, \"carrera\": \"Ingeniería\"}\n",
        "print(estudiante[\"nombre\"])\n",
        "#Modifico un valor\n",
        "estudiante[\"edad\"] = 22\n",
        "print(estudiante)\n"
      ],
      "metadata": {
        "colab": {
          "base_uri": "https://localhost:8080/"
        },
        "id": "F5BjCPL0_eMF",
        "outputId": "405b8d72-da48-4a52-8645-e5ef3db1df9e"
      },
      "execution_count": 35,
      "outputs": [
        {
          "output_type": "stream",
          "name": "stdout",
          "text": [
            "Juan\n",
            "{'nombre': 'Juan', 'edad': 22, 'carrera': 'Ingeniería'}\n"
          ]
        }
      ]
    }
  ]
}