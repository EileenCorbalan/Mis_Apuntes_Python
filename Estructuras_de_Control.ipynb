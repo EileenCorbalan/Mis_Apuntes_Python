{
  "nbformat": 4,
  "nbformat_minor": 0,
  "metadata": {
    "colab": {
      "provenance": [],
      "authorship_tag": "ABX9TyNa0KwcR1NbujqvQonhsRWZ",
      "include_colab_link": true
    },
    "kernelspec": {
      "name": "python3",
      "display_name": "Python 3"
    },
    "language_info": {
      "name": "python"
    }
  },
  "cells": [
    {
      "cell_type": "markdown",
      "metadata": {
        "id": "view-in-github",
        "colab_type": "text"
      },
      "source": [
        "<a href=\"https://colab.research.google.com/github/EileenCorbalan/Python_Apuntes/blob/main/Estructuras_de_Control.ipynb\" target=\"_parent\"><img src=\"https://colab.research.google.com/assets/colab-badge.svg\" alt=\"Open In Colab\"/></a>"
      ]
    },
    {
      "cell_type": "markdown",
      "source": [
        "# Estructuras de Control en Python 📝\n",
        "\n",
        "Las estructuras de control en Python permiten alterar el flujo de ejecución de un programa, basándose en **condiciones** y **repeticiones o bucles**. Son fundamentales para la programación, ya que permiten tomar decisiones y repetir bloques de código según sea necesario.\n",
        "\n",
        "Ahora bien, ¿a qué nos referimos con alterar el flujo de ejecución? Nos referimos a cambiar la **secuencia** en la que se ejecutan las líneas de código dentro de un programa ante una **instrucción** o **condición** concreta. En Python, el código normalmente se ejecuta de manera secuencial, es decir, línea por línea, de arriba hacia abajo.\n",
        "\n",
        "Sin embargo, las estructuras de control permiten modificar esta secuencia de diferentes maneras, mediante condicionales y bucles.\n",
        "\n",
        "## Condicionales\n",
        "- `if`\n",
        "- `elif`\n",
        "- `else`\n",
        "\n",
        "## Estructuras de repetición o Bucles\n",
        "- `while`\n",
        "- `for`\n",
        "\n",
        "Como vemos, las estructuras de control son esenciales para manejar el flujo de un programa en Python ya que permiten la **toma de decisiones**, la **ejecución condicional** de código y la **repetición de tareas**, lo que hace a este lenguaje una herramienta poderosa y flexible para la resolución de problemas."
      ],
      "metadata": {
        "id": "vJ3EWMIvjMra"
      }
    },
    {
      "cell_type": "markdown",
      "source": [
        "## 🤔 Condicionales\n",
        "\n",
        "Permiten que ciertas partes del código se ejecuten sólo si se cumplen condiciones específicas. Si la condición es True, se ejecuta un bloque de código; si es False, ese bloque se salta y se puede, o no, ejecutar otro.\n",
        "\n",
        "Utilizamos la palabra clave `If` seguida de la **condición** que debe cumplirse. Se comprueba la condición y el conjunto de código del bloque `If` se ejecuta si es **verdadera** de lo contrario, el código del bloque `If` no se ejecuta y se ejecuta la sentencia que sigue.\n",
        "\n",
        "Se puede extender esta estructura con `elif` para **evaluar condiciones adicionales**, y con `else` para un caso por defecto **si ninguna condición es verdadera**.\n",
        "\n",
        "Antes de ver los ejemplos... ¿Qué es un bloque de código?\n",
        "\n",
        "Un bloque de código, se refiere a un conjunto de una o más líneas de código que se agrupan y se ejecutan juntas en respuesta a una condición. Los bloques de código en Python están delimitados por la **indentación**, es decir, por la cantidad de espacios o tabulaciones que se usan al principio de cada línea dentro del bloque. La indentación es crucial para definir y organizar estos bloques de código correctamente."
      ],
      "metadata": {
        "id": "O_H3fzq6kky4"
      }
    },
    {
      "cell_type": "code",
      "source": [
        "# Definimos la variable edad que se utilizará para determinar a qué grupo de edad pertenece una persona.\n",
        "edad = 20\n",
        "\n",
        "# Verificamos si el valor de edad es menor que 18.\n",
        "if edad < 18:\n",
        "    print(\"Eres menor de edad.\")\n",
        "# Colocamos una opción alternativa que se evalúa solo si la condición del if no es verdadera\n",
        "elif 18 <= edad < 65:\n",
        "    print(\"Eres un adulto.\")\n",
        "# Este bloque se ejecuta solo si ninguna de las condiciones anteriores es verdadera.\n",
        "else:\n",
        "    print(\"Eres una persona mayor.\")"
      ],
      "metadata": {
        "colab": {
          "base_uri": "https://localhost:8080/"
        },
        "id": "3CHCsC_Fk9Ix",
        "outputId": "cd656b24-cbf7-4b64-9307-c1c1fa212302"
      },
      "execution_count": 26,
      "outputs": [
        {
          "output_type": "stream",
          "name": "stdout",
          "text": [
            "Eres un adulto.\n"
          ]
        }
      ]
    },
    {
      "cell_type": "code",
      "source": [
        "# Definimos la variable tempreratura que se utilizará para determinar si hace calor o frío.\n",
        "temperatura = 15\n",
        "\n",
        "# Verificamos si el valor de temperatura es mayor que 30.\n",
        "if temperatura > 30:\n",
        "    print(\"Hace calor\")\n",
        "# Este bloque se ejecuta solo si la condición del if no es verdadera\n",
        "else:\n",
        "    print(\"Hace frío\")"
      ],
      "metadata": {
        "colab": {
          "base_uri": "https://localhost:8080/"
        },
        "id": "njyEQSrrqWOz",
        "outputId": "43765cd2-9fc5-4c93-8571-176f3a86f574"
      },
      "execution_count": 27,
      "outputs": [
        {
          "output_type": "stream",
          "name": "stdout",
          "text": [
            "Hace frío\n"
          ]
        }
      ]
    },
    {
      "cell_type": "markdown",
      "source": [
        "## ➰ Bucle\n",
        "\n",
        "Permiten que un bloque de código se ejecute repetidamente (o iterativamente), en lugar de solo una vez. El bucle controla cuántas veces y bajo qué condiciones el bloque se repite.\n",
        "\n",
        "El bucle `while` **repite** un bloque de código mientras una **condición** es **verdadera**, es decir que trabaja a nivel condición.\n",
        "\n",
        "El bucle `for` se utiliza para iterar sobre una **secuencia** (como una lista, tupla, diccionario, conjunto o cadena). Es decir que se conocen las veces que debe iterarse. Al iterar sobre una secuencia con un bucle for, Python procesa cada elemento de la secuencia uno a uno, en el orden en que aparecen.\n",
        "\n",
        "Además es posible utilizar `break` para **terminar** el bucle **prematuramente.** bajo una condición determinada."
      ],
      "metadata": {
        "id": "_f_hldgXqM1v"
      }
    },
    {
      "cell_type": "code",
      "source": [
        "# Definimos la variable contador que irá incrementando en cada iteración del bucle.\n",
        "contador = 0\n",
        "# Iniciamos un bucle que se ejecutará repetidamente mientras la condición especificada sea True (verdadera). La condición es contador < 5.\n",
        "# Incrementamos el valor de contador en 1 cada vez que se ejecuta el bucle. Es crucial para que el bucle while eventualmente termine.\n",
        "# Sin este incremento, contador siempre sería 0 y el bucle continuaría indefinidamente.\n",
        "while contador < 5:\n",
        "    contador += 1\n",
        "    if(contador == 3): break\n",
        "    print(\"Contador:\", contador)"
      ],
      "metadata": {
        "colab": {
          "base_uri": "https://localhost:8080/"
        },
        "id": "apq0m4b4tatC",
        "outputId": "59381bc8-c04a-4fb2-c8c6-525265bc2abd"
      },
      "execution_count": 6,
      "outputs": [
        {
          "output_type": "stream",
          "name": "stdout",
          "text": [
            "Contador: 1\n",
            "Contador: 2\n"
          ]
        }
      ]
    },
    {
      "cell_type": "code",
      "source": [
        "# Defino una lista\n",
        "frutas = [\"manzana\", \"banana\", \"cereza\"]\n",
        "# Iteramos sobre cada elemento de la lista frutas. En cada iteración (tres en este caso), la variable fruta toma el valor de un elemento de la lista.\n",
        "for fruta in frutas:\n",
        "# Imprimimos el valor actual de fruta en cada iteración.\n",
        "    print(\"Me gusta comer\", fruta)"
      ],
      "metadata": {
        "colab": {
          "base_uri": "https://localhost:8080/"
        },
        "id": "8dFfWwrStcHn",
        "outputId": "f26fc394-d617-41bc-ec5f-cc313241e475"
      },
      "execution_count": 28,
      "outputs": [
        {
          "output_type": "stream",
          "name": "stdout",
          "text": [
            "Me gusta comer manzana\n",
            "Me gusta comer banana\n",
            "Me gusta comer cereza\n"
          ]
        }
      ]
    },
    {
      "cell_type": "markdown",
      "source": [
        "##Mini script utilizando Condicionales:  Cálculo de precio con descuento basado en el tipo de cliente 💰\n",
        "\n",
        "Imaginemos que tenemos una tienda que ofrece descuentos diferentes dependiendo de si el cliente es un cliente regular, un cliente VIP, o si no pertenece a ninguno de esos grupos.\n",
        "\n",
        "Vamos a calcular el precio final para un producto basado en el tipo de cliente. Modificando la variable `tipo_cliente` se obtienen los resultados para los clientes \"Regular\" y \"Ninguno\""
      ],
      "metadata": {
        "id": "F_qrW7V2uZRP"
      }
    },
    {
      "cell_type": "code",
      "source": [
        "# Definimos el precio base del producto\n",
        "precio_base = 100.00\n",
        "\n",
        "# Definimos tipo de cliente. Puede ser \"Regular\", \"VIP\" o \"Ninguno\"\n",
        "tipo_cliente = \"VIP\"\n",
        "\n",
        "# Definimos el descuento según el tipo de cliente\n",
        "# Si el cliente es Regular se aplica 10% de descuento\n",
        "if tipo_cliente == \"Regular\":\n",
        "    descuento = 0.10\n",
        "# Si el cliente es VIP se aplica 20% de descuento\n",
        "elif tipo_cliente == \"VIP\":\n",
        "    descuento = 0.20\n",
        "# Si el cliente no es Regular o VIP no se aplica descuento\n",
        "else:\n",
        "    descuento = 0.00\n",
        "\n",
        "# Calculamos el precio final\n",
        "precio_final = precio_base * (1 - descuento)\n",
        "\n",
        "# Mostramos el precio final usando una f-string. El precio se formatea a dos decimales (.2f)\n",
        "print(f\"El precio final para un cliente {tipo_cliente} es: ${precio_final:.2f}\")\n"
      ],
      "metadata": {
        "colab": {
          "base_uri": "https://localhost:8080/"
        },
        "id": "IuxvGlPy9-zV",
        "outputId": "530644ee-7c37-46e5-bf3b-97ffb57186ae"
      },
      "execution_count": 16,
      "outputs": [
        {
          "output_type": "stream",
          "name": "stdout",
          "text": [
            "El precio final para un cliente VIP es: $80.00\n"
          ]
        }
      ]
    },
    {
      "cell_type": "markdown",
      "source": [
        "##Mini script utilizando Bucles: Cálculo de la suma de números en una lista 🧮\n",
        "\n",
        "Imaginemos que tenemos una lista de números enteros y queremos calcular la suma total de esos números utilizando un bucle for."
      ],
      "metadata": {
        "id": "SLm0cnRCBzEd"
      }
    },
    {
      "cell_type": "code",
      "source": [
        "# Definimos la lista de números\n",
        "numeros = [3, 5, 7, 9, 11]\n",
        "\n",
        "# Iniciamos la variable para almacenar la suma\n",
        "suma_total = 0\n",
        "\n",
        "# Usamos un bucle for para iterar sobre cada número en la lista y sumamos el número actual a la suma total\n",
        "for numero in numeros:\n",
        "    suma_total += numero\n",
        "\n",
        "# Mostramos la suma total\n",
        "print(f\"La suma total de los números es: {suma_total}\")\n"
      ],
      "metadata": {
        "colab": {
          "base_uri": "https://localhost:8080/"
        },
        "id": "IrtT-lIbD6AV",
        "outputId": "6112def7-a3f3-47a5-ba44-b912499d75fa"
      },
      "execution_count": 24,
      "outputs": [
        {
          "output_type": "stream",
          "name": "stdout",
          "text": [
            "La suma total de los números es: 35\n"
          ]
        }
      ]
    }
  ]
}